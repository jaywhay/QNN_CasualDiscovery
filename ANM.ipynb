{
 "cells": [
  {
   "cell_type": "code",
   "execution_count": 3,
   "id": "6b2b7038-295a-4eb4-8112-c590920ee526",
   "metadata": {},
   "outputs": [
    {
     "name": "stdout",
     "output_type": "stream",
     "text": [
      "Defaulting to user installation because normal site-packages is not writeable\n",
      "Collecting pygam\n",
      "  Downloading pygam-0.9.1-py3-none-any.whl.metadata (7.1 kB)\n",
      "Requirement already satisfied: numpy>=1.25 in /home/dinoboy22/.local/lib/python3.10/site-packages (from pygam) (1.26.4)\n",
      "Collecting progressbar2<5.0.0,>=4.2.0 (from pygam)\n",
      "  Downloading progressbar2-4.5.0-py3-none-any.whl.metadata (16 kB)\n",
      "Collecting scipy<1.12,>=1.11.1 (from pygam)\n",
      "  Downloading scipy-1.11.4-cp310-cp310-manylinux_2_17_x86_64.manylinux2014_x86_64.whl.metadata (60 kB)\n",
      "\u001b[2K     \u001b[90m━━━━━━━━━━━━━━━━━━━━━━━━━━━━━━━━━━━━━━━━\u001b[0m \u001b[32m60.4/60.4 kB\u001b[0m \u001b[31m4.0 MB/s\u001b[0m eta \u001b[36m0:00:00\u001b[0m\n",
      "\u001b[?25hCollecting python-utils>=3.8.1 (from progressbar2<5.0.0,>=4.2.0->pygam)\n",
      "  Downloading python_utils-3.9.1-py2.py3-none-any.whl.metadata (9.8 kB)\n",
      "Requirement already satisfied: typing_extensions>3.10.0.2 in /home/dinoboy22/.local/lib/python3.10/site-packages (from python-utils>=3.8.1->progressbar2<5.0.0,>=4.2.0->pygam) (4.9.0)\n",
      "Downloading pygam-0.9.1-py3-none-any.whl (522 kB)\n",
      "\u001b[2K   \u001b[90m━━━━━━━━━━━━━━━━━━━━━━━━━━━━━━━━━━━━━━━━\u001b[0m \u001b[32m522.0/522.0 kB\u001b[0m \u001b[31m8.6 MB/s\u001b[0m eta \u001b[36m0:00:00\u001b[0mta \u001b[36m0:00:01\u001b[0m\n",
      "\u001b[?25hDownloading progressbar2-4.5.0-py3-none-any.whl (57 kB)\n",
      "\u001b[2K   \u001b[90m━━━━━━━━━━━━━━━━━━━━━━━━━━━━━━━━━━━━━━━━\u001b[0m \u001b[32m57.1/57.1 kB\u001b[0m \u001b[31m4.5 MB/s\u001b[0m eta \u001b[36m0:00:00\u001b[0m\n",
      "\u001b[?25hDownloading scipy-1.11.4-cp310-cp310-manylinux_2_17_x86_64.manylinux2014_x86_64.whl (36.4 MB)\n",
      "\u001b[2K   \u001b[90m━━━━━━━━━━━━━━━━━━━━━━━━━━━━━━━━━━━━━━━━\u001b[0m \u001b[32m36.4/36.4 MB\u001b[0m \u001b[31m12.1 MB/s\u001b[0m eta \u001b[36m0:00:00\u001b[0m00:01\u001b[0m00:01\u001b[0m\n",
      "\u001b[?25hDownloading python_utils-3.9.1-py2.py3-none-any.whl (32 kB)\n",
      "Installing collected packages: scipy, python-utils, progressbar2, pygam\n",
      "  Attempting uninstall: scipy\n",
      "    Found existing installation: scipy 1.12.0\n",
      "    Uninstalling scipy-1.12.0:\n",
      "      Successfully uninstalled scipy-1.12.0\n",
      "Successfully installed progressbar2-4.5.0 pygam-0.9.1 python-utils-3.9.1 scipy-1.11.4\n",
      "\n",
      "\u001b[1m[\u001b[0m\u001b[34;49mnotice\u001b[0m\u001b[1;39;49m]\u001b[0m\u001b[39;49m A new release of pip is available: \u001b[0m\u001b[31;49m24.0\u001b[0m\u001b[39;49m -> \u001b[0m\u001b[32;49m24.3.1\u001b[0m\n",
      "\u001b[1m[\u001b[0m\u001b[34;49mnotice\u001b[0m\u001b[1;39;49m]\u001b[0m\u001b[39;49m To update, run: \u001b[0m\u001b[32;49mpython3 -m pip install --upgrade pip\u001b[0m\n",
      "Note: you may need to restart the kernel to use updated packages.\n"
     ]
    }
   ],
   "source": [
    "# pip install pygam"
   ]
  },
  {
   "cell_type": "code",
   "execution_count": 2,
   "id": "e3f5ca2c-c2c0-4b3c-9a95-4e62155a4571",
   "metadata": {},
   "outputs": [],
   "source": [
    "import torch\n",
    "import torch.nn as nn\n",
    "from torch.utils.data import Dataset, DataLoader, TensorDataset\n",
    "import numpy as np\n",
    "import pandas as pd\n",
    "import os\n",
    "import random\n",
    "from sklearn.model_selection import train_test_split\n",
    "from pygam import GAM, s"
   ]
  },
  {
   "cell_type": "code",
   "execution_count": 3,
   "id": "ce0303a8-a46c-4f3c-b493-028956085166",
   "metadata": {},
   "outputs": [],
   "source": [
    "import os\n",
    "import pandas as pd\n",
    "import torch\n",
    "import numpy as np\n",
    "import re\n",
    "from torch.utils.data import Dataset\n",
    "\n",
    "class TubingenDatasetHighDim(Dataset):\n",
    "    def __init__(self, folder_path, meta_path):\n",
    "        self.data = []\n",
    "        self.weights = []\n",
    "        \n",
    "        # 메타데이터 읽기\n",
    "        meta_data = pd.read_csv(meta_path, header=None, sep=r'[ \\t]+', engine='python')\n",
    "        meta_dict = {}\n",
    "        for row in meta_data.itertuples():\n",
    "            pair_num = f\"{int(row[1]):04d}\"\n",
    "            meta_dict[pair_num] = {\n",
    "                'x_start': int(row[2]),\n",
    "                'x_end': int(row[3]),\n",
    "                'y_start': int(row[4]),\n",
    "                'y_end': int(row[5]),\n",
    "                'weight': float(row[6])\n",
    "            }\n",
    "            \n",
    "        def read_data_file(file_path):\n",
    "            try:\n",
    "                with open(file_path, 'r') as f:\n",
    "                    first_line = f.readline().strip()\n",
    "\n",
    "                # CSV 형식 확인\n",
    "                if ',' in first_line:\n",
    "                    # 모든 행(row) 읽기\n",
    "                    df = pd.read_csv(file_path, header=None)  # 헤더가 없는 경우 header=None\n",
    "                    return df.values.astype(np.float32)  # NumPy 배열로 변환\n",
    "                else:\n",
    "                    # 공백/탭 구분자로 시도\n",
    "                    data = []\n",
    "                    with open(file_path, 'r') as f:\n",
    "                        for line in f:\n",
    "                            # 공백으로 분리하고 모든 값 사용\n",
    "                            values = [float(val) for val in line.strip().split()]\n",
    "                            if values:\n",
    "                                data.append(values)\n",
    "\n",
    "                    data_array = np.array(data, dtype=np.float32)\n",
    "                    return data_array\n",
    "            except Exception as e:\n",
    "                print(f\"Error reading file {file_path}: {e}\")\n",
    "                return None\n",
    "\n",
    "        def find_direction_in_file(file_content):\n",
    "            \"\"\"파일 전체 내용에서 방향성 찾기\"\"\"\n",
    "            # 텍스트 전처리\n",
    "            content = file_content.lower()\n",
    "            \n",
    "            # x->y 패턴 찾기 (다양한 형식 포함)\n",
    "            x_to_y_patterns = [\n",
    "                r'x\\s*-+\\s*>\\s*y',         # x->y, x --> y, x  >  y\n",
    "                r'x\\s*-\\s*-\\s*>\\s*y',      # x - - > y\n",
    "                r'x\\s*-+\\s*-+\\s*>\\s*y',    # x -- > y, x --- > y\n",
    "                r'x\\s*→\\s*y',              # x→y (유니코드 화살표)\n",
    "                r'x\\s+to\\s+y',             # x to y\n",
    "                r'y\\s*<-\\s*x',             # y <- x\n",
    "                r'y\\s*←\\s*x',              # y ← x (유니코드 화살표)\n",
    "                r'ground\\s*truth.*x\\s*-*>\\s*y',  # ground truth x->y\n",
    "                r'ground\\s*truth.*x\\s+to\\s+y',   # ground truth x to y\n",
    "                r'ground\\s*truth.*x\\s*-\\s*-\\s*>\\s*y'  # ground truth x - - > y\n",
    "            ]\n",
    "            \n",
    "            # y->x 패턴 찾기\n",
    "            y_to_x_patterns = [\n",
    "                r'y\\s*-+\\s*>\\s*x',         # y->x, y --> x, y  >  x\n",
    "                r'y\\s*-\\s*-\\s*>\\s*x',      # y - - > x\n",
    "                r'y\\s*-+\\s*-+\\s*>\\s*x',    # y -- > x, y --- > x\n",
    "                r'y\\s*→\\s*x',              # y→x (유니코드 화살표)\n",
    "                r'y\\s+to\\s+x',             # y to x\n",
    "                r'x\\s*<-\\s*y',             # x <- y\n",
    "                r'x\\s*←\\s*y',              # x ← y (유니코드 화살표)\n",
    "                r'ground\\s*truth.*y\\s*-*>\\s*x',  # ground truth y->x\n",
    "                r'ground\\s*truth.*y\\s+to\\s+x',   # ground truth y to x\n",
    "                r'ground\\s*truth.*y\\s*-\\s*-\\s*>\\s*x',  # ground truth y - - > x\n",
    "                r'ground\\s*truth.*x\\s*<-\\s*y'    # ground truth x <- y\n",
    "            ]\n",
    "            \n",
    "            # x->y 패턴 매칭 (대문자 버전 포함)\n",
    "            for pattern in x_to_y_patterns:\n",
    "                if re.search(pattern, content) or re.search(pattern.replace('x', 'X').replace('y', 'Y'), file_content):\n",
    "                    return 1\n",
    "                    \n",
    "            # y->x 패턴 매칭 (대문자 버전 포함)\n",
    "            for pattern in y_to_x_patterns:\n",
    "                if re.search(pattern, content) or re.search(pattern.replace('x', 'X').replace('y', 'Y'), file_content):\n",
    "                    return 0\n",
    "            \n",
    "            # 매칭되지 않는 경우\n",
    "            print(f\"Warning: Unable to determine direction from text: '{file_content.strip()}'\")\n",
    "            return -1\n",
    "        \n",
    "        # 파일 처리\n",
    "        successful_loads = 0\n",
    "        skipped_files = []  # 레이블을 결정할 수 없는 파일들 추적\n",
    "        \n",
    "        for file_name in sorted(os.listdir(folder_path)):\n",
    "            if file_name.endswith('.csv') and not file_name.endswith('_des.csv'):\n",
    "                pair_num = file_name[4:8]\n",
    "                csv_path = os.path.join(folder_path, file_name)\n",
    "                des_file_name = file_name.replace('.csv', '_des.csv')\n",
    "                des_path = os.path.join(folder_path, des_file_name)\n",
    "                \n",
    "                if pair_num in meta_dict:\n",
    "                    meta = meta_dict[pair_num]\n",
    "                    \n",
    "                    # 데이터 읽기\n",
    "                    raw_data = read_data_file(csv_path)\n",
    "                    \n",
    "                    if raw_data is not None and len(raw_data) > 0:\n",
    "                        try:\n",
    "                            # 메타데이터의 범위에 따라 X와 Y 데이터 분리\n",
    "                            x_start = meta['x_start'] - 1  # 1-based to 0-based\n",
    "                            x_end = meta['x_end']\n",
    "                            y_start = meta['y_start'] - 1  # 1-based to 0-based\n",
    "                            y_end = meta['y_end']\n",
    "\n",
    "                            # x_data는 첫 번째 열만 사용\n",
    "                            x_data = raw_data[:, x_start:x_end]  # 행(row)을 기준으로 범위를 지정하고, 열(column) 명시\n",
    "                            # y_data는 두 번째 열만 사용\n",
    "                            y_data = raw_data[:, y_start:y_end]  # 행(row)을 기준으로 범위를 지정하고, 열(column) 명시\n",
    "\n",
    "                            # 빈 데이터 확인\n",
    "                            if len(x_data) == 0 or len(y_data) == 0:\n",
    "                                print(f\"Skipping {file_name} due to empty data\")\n",
    "                                continue\n",
    "                            \n",
    "                            # 텐서로 변환\n",
    "                            x_tensor = torch.tensor(x_data, dtype=torch.float32)\n",
    "                            y_tensor = torch.tensor(y_data, dtype=torch.float32)\n",
    "                            \n",
    "                            # des 파일에서 방향성 정보 읽기\n",
    "                            if os.path.exists(des_path):\n",
    "                                with open(des_path, 'r') as des_file:\n",
    "                                    des_content = des_file.read()\n",
    "                                    label = find_direction_in_file(des_content)\n",
    "                                    \n",
    "                                    if label == -1:\n",
    "                                        skipped_files.append((file_name, des_content.strip()))\n",
    "                            else:\n",
    "                                label = -1\n",
    "                                print(f\"\\nWarning: No description file found for {file_name}\")\n",
    "                                print(\"Default label assigned: -1 (unknown)\")\n",
    "                                skipped_files.append((file_name, \"No description file\"))\n",
    "                            \n",
    "                            # 데이터 저장 (레이블이 유효한 경우만)\n",
    "                            if label != -1:\n",
    "                                self.data.append({\n",
    "                                    'x': x_tensor,\n",
    "                                    'y': y_tensor,\n",
    "                                    'label': label,\n",
    "                                    'weight': meta['weight'],\n",
    "                                    'file_name': file_name\n",
    "                                })\n",
    "                                successful_loads += 1\n",
    "                            \n",
    "                        except Exception as e:\n",
    "                            print(f\"Data processing error in {file_name}: {e}\")\n",
    "                            continue\n",
    "        \n",
    "        print(f\"\\nSuccessfully loaded {successful_loads} files\")\n",
    "        \n",
    "        # 레이블 통계 출력\n",
    "        label_counts = {1: 0, 0: 0, -1: 0}\n",
    "        for item in self.data:\n",
    "            label_counts[item['label']] += 1\n",
    "            '''\n",
    "        print(\"\\nLabel Distribution:\")\n",
    "        print(f\"Label 1 (x→y): {label_counts[1]} samples\")\n",
    "        print(f\"Label 0 (y→x): {label_counts[0]} samples\")'''\n",
    "        \n",
    "        # 스킵된 파일 정보 출력\n",
    "        if skipped_files:\n",
    "            print(\"\\nSkipped files due to unclear direction:\")\n",
    "            for file_name, content in skipped_files:\n",
    "                print(f\"\\n{file_name}:\")\n",
    "                print(f\"Content: {content}\")\n",
    "\n",
    "    def __len__(self):\n",
    "        return len(self.data)\n",
    "    \n",
    "    def __getitem__(self, idx):\n",
    "        sample = self.data[idx]\n",
    "        return sample['x'], sample['y'], sample['label'], sample['weight']\n",
    "    \n",
    "    def get_dimensions(self):\n",
    "        \"\"\"각 데이터셋의 차원 정보를 반환\"\"\"\n",
    "        dimensions = []\n",
    "        for sample in self.data:\n",
    "            dimensions.append({\n",
    "                'file': sample.get('file_name', 'unknown'),\n",
    "                'x_dim': tuple(sample['x'].shape),\n",
    "                'y_dim': tuple(sample['y'].shape)\n",
    "            })\n",
    "        return dimensions\n",
    "    \n",
    "    def get_label_summary(self):\n",
    "        \"\"\"데이터셋의 라벨 분포를 반환\"\"\"\n",
    "        label_count = {0: 0, 1: 0, -1: 0}\n",
    "        file_labels = []\n",
    "        \n",
    "        for sample in self.data:\n",
    "            label = sample['label']\n",
    "            label_count[label] += 1\n",
    "            file_labels.append({\n",
    "                'file': sample['file_name'],\n",
    "                'label': label,\n",
    "                'weight': sample['weight']\n",
    "            })\n",
    "            \n",
    "        return {\n",
    "            'summary': label_count,\n",
    "            'details': file_labels\n",
    "        }\n",
    "    def get_valid_data(self):\n",
    "        special_cases = [\"pair0052.csv\", \"pair0053.csv\", \"pair0054.csv\", \"pair0055.csv\", \"pair0071.csv\", \"pair0105.csv\"]\n",
    "        return [\n",
    "            sample for sample in self.data if sample['file_name'] not in special_cases\n",
    "        ]\n",
    "    def sample_out(self):\n",
    "        for sample in self.data:\n",
    "            print(f\"File: {sample['file_name']}, x shape: {sample['x'].shape}, y shape: {sample['y'].shape}\")   "
   ]
  },
  {
   "cell_type": "code",
   "execution_count": 4,
   "id": "a2c9c1b6-1316-4424-93b9-1396a4fda20c",
   "metadata": {
    "collapsed": true,
    "jupyter": {
     "outputs_hidden": true
    },
    "scrolled": true
   },
   "outputs": [
    {
     "name": "stdout",
     "output_type": "stream",
     "text": [
      "Warning: Unable to determine direction from text: 'Information for pairs0049:\n",
      " Switzerland\n",
      "\"\"\n",
      "\"\"\n",
      "\"\"\n",
      " Switzerland)\n",
      "\"\"\n",
      "\"\"\n",
      "\"\"'\n",
      "Warning: Unable to determine direction from text: 'Information for pairs0050:\n",
      " Switzerland\n",
      "\"\"\n",
      "\"\"\n",
      "\"\"\n",
      " Switzerland)\n",
      "\"\"\n",
      "\"\"\n",
      "\"\"'\n",
      "Warning: Unable to determine direction from text: 'Information for pairs0051:\n",
      " Switzerland\n",
      "\"\"\n",
      "\"\"\n",
      "\"\"\n",
      " Switzerland)\n",
      "\"\"\n",
      "\"\"\n",
      "\"\"'\n",
      "Warning: Unable to determine direction from text: 'Description of pair0085:\n",
      " corresponding to cows who stopped producing milk before the end of the experiment.\n",
      "\"\"\n",
      "\"\"\n",
      "\"\"\n",
      "\"\"\n",
      "\"\"\n",
      "\"\"\n",
      "\"\"\n",
      "\"\"\n",
      "\"\"\n",
      "\"\"\n",
      "\"\"'\n",
      "Warning: Unable to determine direction from text: 'First column:  size in m^2 of appartment/room\n",
      "Second column: monthly rent in EUR'\n",
      "Warning: Unable to determine direction from text: 'Whistler Daily Snowfall (from http://www.mldata.org/repository/data/viewslug/whistler-daily-snowfall/)\n",
      "\" Canada over the period July 1 1972 to December 31 2009. Measured at top of Whistler Gondola: Latitude: 50°04'04.000\"\" N Longitude: 122°56'50.000\"\" W Elevation: 1835.00 m \"\n",
      "\"\"\n",
      "\"\"\n",
      "\"\"\n",
      "\"\"\n",
      "\"\"'\n",
      "Warning: Unable to determine direction from text: 'x = age\n",
      "y = Relative Spinal bone mineral density\n",
      "Source:\n",
      "bone data set from http://cran.r-project.org/web/packages/ElemStatLearn/ElemStatLearn.pdf\n",
      "We obtained and preprocessed the data using the following R commands:\n",
      "install.packages('ElemStatLearn')\n",
      "library(ElemStatLearn)\n",
      "for( i in 2:dim(bone)[1] ) { \n",
      "  } \n",
      "}\n",
      "remove.packages('ElemStatLearn')\n",
      "\"selected only the columns \"\"age\"\" and \"\"spnbmd\"\" (Relative Change in Spinal BMD).\"\n",
      "The ground truth should be that age causes relative change in spinal BMD.'\n",
      "\n",
      "Successfully loaded 101 files\n",
      "\n",
      "Skipped files due to unclear direction:\n",
      "\n",
      "pair0049.csv:\n",
      "Content: Information for pairs0049:\n",
      " Switzerland\n",
      "\"\"\n",
      "\"\"\n",
      "\"\"\n",
      " Switzerland)\n",
      "\"\"\n",
      "\"\"\n",
      "\"\"\n",
      "\n",
      "pair0050.csv:\n",
      "Content: Information for pairs0050:\n",
      " Switzerland\n",
      "\"\"\n",
      "\"\"\n",
      "\"\"\n",
      " Switzerland)\n",
      "\"\"\n",
      "\"\"\n",
      "\"\"\n",
      "\n",
      "pair0051.csv:\n",
      "Content: Information for pairs0051:\n",
      " Switzerland\n",
      "\"\"\n",
      "\"\"\n",
      "\"\"\n",
      " Switzerland)\n",
      "\"\"\n",
      "\"\"\n",
      "\"\"\n",
      "\n",
      "pair0085.csv:\n",
      "Content: Description of pair0085:\n",
      " corresponding to cows who stopped producing milk before the end of the experiment.\n",
      "\"\"\n",
      "\"\"\n",
      "\"\"\n",
      "\"\"\n",
      "\"\"\n",
      "\"\"\n",
      "\"\"\n",
      "\"\"\n",
      "\"\"\n",
      "\"\"\n",
      "\"\"\n",
      "\n",
      "pair0086.csv:\n",
      "Content: First column:  size in m^2 of appartment/room\n",
      "Second column: monthly rent in EUR\n",
      "\n",
      "pair0087.csv:\n",
      "Content: Whistler Daily Snowfall (from http://www.mldata.org/repository/data/viewslug/whistler-daily-snowfall/)\n",
      "\" Canada over the period July 1 1972 to December 31 2009. Measured at top of Whistler Gondola: Latitude: 50°04'04.000\"\" N Longitude: 122°56'50.000\"\" W Elevation: 1835.00 m \"\n",
      "\"\"\n",
      "\"\"\n",
      "\"\"\n",
      "\"\"\n",
      "\"\"\n",
      "\n",
      "pair0088.csv:\n",
      "Content: x = age\n",
      "y = Relative Spinal bone mineral density\n",
      "Source:\n",
      "bone data set from http://cran.r-project.org/web/packages/ElemStatLearn/ElemStatLearn.pdf\n",
      "We obtained and preprocessed the data using the following R commands:\n",
      "install.packages('ElemStatLearn')\n",
      "library(ElemStatLearn)\n",
      "for( i in 2:dim(bone)[1] ) { \n",
      "  } \n",
      "}\n",
      "remove.packages('ElemStatLearn')\n",
      "\"selected only the columns \"\"age\"\" and \"\"spnbmd\"\" (Relative Change in Spinal BMD).\"\n",
      "The ground truth should be that age causes relative change in spinal BMD.\n"
     ]
    }
   ],
   "source": [
    "# Dataset 로드\n",
    "dataset = TubingenDatasetHighDim(\n",
    "    folder_path='pairs(csv)',\n",
    "    meta_path='pairs(csv)/pairmeta.csv'\n",
    ")\n",
    "valid_data = dataset.get_valid_data()"
   ]
  },
  {
   "cell_type": "code",
   "execution_count": 5,
   "id": "f23a97b4-24fc-4be6-aded-31ba1ede1a1b",
   "metadata": {},
   "outputs": [],
   "source": [
    "dim = dataset.get_dimensions()"
   ]
  },
  {
   "cell_type": "code",
   "execution_count": 6,
   "id": "f0d1fbaf-0d28-4745-a1ae-2f54aaa1ae51",
   "metadata": {
    "collapsed": true,
    "jupyter": {
     "outputs_hidden": true
    },
    "scrolled": true
   },
   "outputs": [
    {
     "data": {
      "text/plain": [
       "[{'file': 'pair0001.csv', 'x_dim': (349, 1), 'y_dim': (349, 1)},\n",
       " {'file': 'pair0002.csv', 'x_dim': (349, 1), 'y_dim': (349, 1)},\n",
       " {'file': 'pair0003.csv', 'x_dim': (349, 1), 'y_dim': (349, 1)},\n",
       " {'file': 'pair0004.csv', 'x_dim': (349, 1), 'y_dim': (349, 1)},\n",
       " {'file': 'pair0005.csv', 'x_dim': (4177, 1), 'y_dim': (4177, 1)},\n",
       " {'file': 'pair0006.csv', 'x_dim': (4177, 1), 'y_dim': (4177, 1)},\n",
       " {'file': 'pair0007.csv', 'x_dim': (4177, 1), 'y_dim': (4177, 1)},\n",
       " {'file': 'pair0008.csv', 'x_dim': (4177, 1), 'y_dim': (4177, 1)},\n",
       " {'file': 'pair0009.csv', 'x_dim': (4177, 1), 'y_dim': (4177, 1)},\n",
       " {'file': 'pair0010.csv', 'x_dim': (4177, 1), 'y_dim': (4177, 1)},\n",
       " {'file': 'pair0011.csv', 'x_dim': (4177, 1), 'y_dim': (4177, 1)},\n",
       " {'file': 'pair0012.csv', 'x_dim': (5000, 1), 'y_dim': (5000, 1)},\n",
       " {'file': 'pair0013.csv', 'x_dim': (392, 1), 'y_dim': (392, 1)},\n",
       " {'file': 'pair0014.csv', 'x_dim': (392, 1), 'y_dim': (392, 1)},\n",
       " {'file': 'pair0015.csv', 'x_dim': (392, 1), 'y_dim': (392, 1)},\n",
       " {'file': 'pair0016.csv', 'x_dim': (392, 1), 'y_dim': (392, 1)},\n",
       " {'file': 'pair0017.csv', 'x_dim': (5000, 1), 'y_dim': (5000, 1)},\n",
       " {'file': 'pair0018.csv', 'x_dim': (314, 1), 'y_dim': (314, 1)},\n",
       " {'file': 'pair0019.csv', 'x_dim': (194, 1), 'y_dim': (194, 1)},\n",
       " {'file': 'pair0020.csv', 'x_dim': (349, 1), 'y_dim': (349, 1)},\n",
       " {'file': 'pair0021.csv', 'x_dim': (349, 1), 'y_dim': (349, 1)},\n",
       " {'file': 'pair0022.csv', 'x_dim': (450, 1), 'y_dim': (450, 1)},\n",
       " {'file': 'pair0023.csv', 'x_dim': (452, 1), 'y_dim': (452, 1)},\n",
       " {'file': 'pair0024.csv', 'x_dim': (451, 1), 'y_dim': (451, 1)},\n",
       " {'file': 'pair0025.csv', 'x_dim': (1030, 1), 'y_dim': (1030, 1)},\n",
       " {'file': 'pair0026.csv', 'x_dim': (1030, 1), 'y_dim': (1030, 1)},\n",
       " {'file': 'pair0027.csv', 'x_dim': (1030, 1), 'y_dim': (1030, 1)},\n",
       " {'file': 'pair0028.csv', 'x_dim': (1030, 1), 'y_dim': (1030, 1)},\n",
       " {'file': 'pair0029.csv', 'x_dim': (1030, 1), 'y_dim': (1030, 1)},\n",
       " {'file': 'pair0030.csv', 'x_dim': (1030, 1), 'y_dim': (1030, 1)},\n",
       " {'file': 'pair0031.csv', 'x_dim': (1030, 1), 'y_dim': (1030, 1)},\n",
       " {'file': 'pair0032.csv', 'x_dim': (1030, 1), 'y_dim': (1030, 1)},\n",
       " {'file': 'pair0033.csv', 'x_dim': (345, 1), 'y_dim': (345, 1)},\n",
       " {'file': 'pair0034.csv', 'x_dim': (345, 1), 'y_dim': (345, 1)},\n",
       " {'file': 'pair0035.csv', 'x_dim': (345, 1), 'y_dim': (345, 1)},\n",
       " {'file': 'pair0036.csv', 'x_dim': (345, 1), 'y_dim': (345, 1)},\n",
       " {'file': 'pair0037.csv', 'x_dim': (345, 1), 'y_dim': (345, 1)},\n",
       " {'file': 'pair0038.csv', 'x_dim': (757, 1), 'y_dim': (757, 1)},\n",
       " {'file': 'pair0039.csv', 'x_dim': (394, 1), 'y_dim': (394, 1)},\n",
       " {'file': 'pair0040.csv', 'x_dim': (733, 1), 'y_dim': (733, 1)},\n",
       " {'file': 'pair0041.csv', 'x_dim': (763, 1), 'y_dim': (763, 1)},\n",
       " {'file': 'pair0042.csv', 'x_dim': (9162, 1), 'y_dim': (9162, 1)},\n",
       " {'file': 'pair0043.csv', 'x_dim': (10369, 1), 'y_dim': (10369, 1)},\n",
       " {'file': 'pair0044.csv', 'x_dim': (10369, 1), 'y_dim': (10369, 1)},\n",
       " {'file': 'pair0045.csv', 'x_dim': (10369, 1), 'y_dim': (10369, 1)},\n",
       " {'file': 'pair0046.csv', 'x_dim': (10369, 1), 'y_dim': (10369, 1)},\n",
       " {'file': 'pair0047.csv', 'x_dim': (254, 1), 'y_dim': (254, 1)},\n",
       " {'file': 'pair0048.csv', 'x_dim': (168, 1), 'y_dim': (168, 1)},\n",
       " {'file': 'pair0052.csv', 'x_dim': (10226, 4), 'y_dim': (10226, 4)},\n",
       " {'file': 'pair0053.csv', 'x_dim': (989, 3), 'y_dim': (989, 1)},\n",
       " {'file': 'pair0054.csv', 'x_dim': (392, 3), 'y_dim': (392, 2)},\n",
       " {'file': 'pair0055.csv', 'x_dim': (72, 16), 'y_dim': (72, 16)},\n",
       " {'file': 'pair0056.csv', 'x_dim': (192, 1), 'y_dim': (192, 1)},\n",
       " {'file': 'pair0057.csv', 'x_dim': (192, 1), 'y_dim': (192, 1)},\n",
       " {'file': 'pair0058.csv', 'x_dim': (192, 1), 'y_dim': (192, 1)},\n",
       " {'file': 'pair0059.csv', 'x_dim': (192, 1), 'y_dim': (192, 1)},\n",
       " {'file': 'pair0060.csv', 'x_dim': (192, 1), 'y_dim': (192, 1)},\n",
       " {'file': 'pair0061.csv', 'x_dim': (192, 1), 'y_dim': (192, 1)},\n",
       " {'file': 'pair0062.csv', 'x_dim': (192, 1), 'y_dim': (192, 1)},\n",
       " {'file': 'pair0063.csv', 'x_dim': (192, 1), 'y_dim': (192, 1)},\n",
       " {'file': 'pair0064.csv', 'x_dim': (162, 1), 'y_dim': (162, 1)},\n",
       " {'file': 'pair0065.csv', 'x_dim': (1331, 1), 'y_dim': (1331, 1)},\n",
       " {'file': 'pair0066.csv', 'x_dim': (1331, 1), 'y_dim': (1331, 1)},\n",
       " {'file': 'pair0067.csv', 'x_dim': (1331, 1), 'y_dim': (1331, 1)},\n",
       " {'file': 'pair0068.csv', 'x_dim': (498, 1), 'y_dim': (498, 1)},\n",
       " {'file': 'pair0069.csv', 'x_dim': (16382, 1), 'y_dim': (16382, 1)},\n",
       " {'file': 'pair0070.csv', 'x_dim': (4499, 1), 'y_dim': (4499, 1)},\n",
       " {'file': 'pair0071.csv', 'x_dim': (120, 6), 'y_dim': (120, 2)},\n",
       " {'file': 'pair0072.csv', 'x_dim': (1632, 1), 'y_dim': (1632, 1)},\n",
       " {'file': 'pair0073.csv', 'x_dim': (5084, 1), 'y_dim': (5084, 1)},\n",
       " {'file': 'pair0074.csv', 'x_dim': (194, 1), 'y_dim': (194, 1)},\n",
       " {'file': 'pair0075.csv', 'x_dim': (205, 1), 'y_dim': (205, 1)},\n",
       " {'file': 'pair0076.csv', 'x_dim': (347, 1), 'y_dim': (347, 1)},\n",
       " {'file': 'pair0077.csv', 'x_dim': (8401, 1), 'y_dim': (8401, 1)},\n",
       " {'file': 'pair0078.csv', 'x_dim': (721, 1), 'y_dim': (721, 1)},\n",
       " {'file': 'pair0079.csv', 'x_dim': (721, 1), 'y_dim': (721, 1)},\n",
       " {'file': 'pair0080.csv', 'x_dim': (721, 1), 'y_dim': (721, 1)},\n",
       " {'file': 'pair0081.csv', 'x_dim': (365, 1), 'y_dim': (365, 1)},\n",
       " {'file': 'pair0082.csv', 'x_dim': (365, 1), 'y_dim': (365, 1)},\n",
       " {'file': 'pair0083.csv', 'x_dim': (365, 1), 'y_dim': (365, 1)},\n",
       " {'file': 'pair0084.csv', 'x_dim': (3102, 1), 'y_dim': (3102, 1)},\n",
       " {'file': 'pair0089.csv', 'x_dim': (131, 1), 'y_dim': (131, 1)},\n",
       " {'file': 'pair0090.csv', 'x_dim': (126, 1), 'y_dim': (126, 1)},\n",
       " {'file': 'pair0091.csv', 'x_dim': (149, 1), 'y_dim': (149, 1)},\n",
       " {'file': 'pair0092.csv', 'x_dim': (150, 1), 'y_dim': (150, 1)},\n",
       " {'file': 'pair0093.csv', 'x_dim': (432, 1), 'y_dim': (432, 1)},\n",
       " {'file': 'pair0094.csv', 'x_dim': (9504, 1), 'y_dim': (9504, 1)},\n",
       " {'file': 'pair0095.csv', 'x_dim': (9504, 1), 'y_dim': (9504, 1)},\n",
       " {'file': 'pair0096.csv', 'x_dim': (9504, 1), 'y_dim': (9504, 1)},\n",
       " {'file': 'pair0097.csv', 'x_dim': (202, 1), 'y_dim': (202, 1)},\n",
       " {'file': 'pair0098.csv', 'x_dim': (94, 1), 'y_dim': (94, 1)},\n",
       " {'file': 'pair0099.csv', 'x_dim': (2287, 1), 'y_dim': (2287, 1)},\n",
       " {'file': 'pair0100.csv', 'x_dim': (209, 1), 'y_dim': (209, 1)},\n",
       " {'file': 'pair0101.csv', 'x_dim': (300, 1), 'y_dim': (300, 1)},\n",
       " {'file': 'pair0102.csv', 'x_dim': (109, 1), 'y_dim': (109, 1)},\n",
       " {'file': 'pair0103.csv', 'x_dim': (109, 1), 'y_dim': (109, 1)},\n",
       " {'file': 'pair0104.csv', 'x_dim': (109, 1), 'y_dim': (109, 1)},\n",
       " {'file': 'pair0105.csv', 'x_dim': (1000, 9), 'y_dim': (1000, 1)},\n",
       " {'file': 'pair0106.csv', 'x_dim': (114, 1), 'y_dim': (114, 1)},\n",
       " {'file': 'pair0107.csv', 'x_dim': (240, 1), 'y_dim': (240, 1)},\n",
       " {'file': 'pair0108.csv', 'x_dim': (112, 1), 'y_dim': (112, 1)}]"
      ]
     },
     "execution_count": 6,
     "metadata": {},
     "output_type": "execute_result"
    }
   ],
   "source": [
    "dim"
   ]
  },
  {
   "cell_type": "code",
   "execution_count": 7,
   "id": "6d235871-58d8-4fdd-b266-b8d485317427",
   "metadata": {},
   "outputs": [],
   "source": [
    "def organize_domains(valid_data):\n",
    "    domains = {}\n",
    "    for sample in valid_data:\n",
    "        file_name = sample['file_name']\n",
    "        if file_name not in domains:\n",
    "            domains[file_name] = {'x': [], 'y': [], 'label': [], 'weight': []}\n",
    "        domains[file_name]['x'].append(sample['x'])\n",
    "        domains[file_name]['y'].append(sample['y'])\n",
    "        domains[file_name]['label'].append(sample['label'])\n",
    "        domains[file_name]['weight'].append(sample['weight'])\n",
    "    return domains"
   ]
  },
  {
   "cell_type": "code",
   "execution_count": 8,
   "id": "a65494eb-aa25-4515-8470-8e2700806e3f",
   "metadata": {},
   "outputs": [],
   "source": [
    "domains = organize_domains(valid_data)"
   ]
  },
  {
   "cell_type": "code",
   "execution_count": 18,
   "id": "49dbe609-28e7-43a2-aeb2-a50aa68a9fbc",
   "metadata": {},
   "outputs": [],
   "source": [
    "import numpy\n",
    "\n",
    "def centering(M):\n",
    "    \"\"\"\n",
    "    Calculate the centering matrix\n",
    "    \"\"\"\n",
    "    n = M.shape[0]\n",
    "    unit = numpy.ones([n, n])\n",
    "    identity = numpy.eye(n)\n",
    "    H = identity - unit/n\n",
    "\n",
    "    return numpy.matmul(M, H)\n",
    "\n",
    "def gaussian_grammat(x, sigma=None):\n",
    "    \"\"\"\n",
    "    Calculate the Gram matrix of x using a Gaussian kernel.\n",
    "    If the bandwidth sigma is None, it is estimated using the median heuristic:\n",
    "    ||x_i - x_j||**2 = 2 sigma**2\n",
    "    \"\"\"\n",
    "    try:\n",
    "        x.shape[1]\n",
    "    except IndexError:\n",
    "        x = x.reshape(x.shape[0], 1)\n",
    "\n",
    "    xxT = numpy.matmul(x, x.T)\n",
    "    xnorm = numpy.diag(xxT) - xxT + (numpy.diag(xxT) - xxT).T\n",
    "    if sigma is None:\n",
    "        mdist = numpy.median(xnorm[xnorm!= 0])\n",
    "        sigma = numpy.sqrt(mdist*0.5)\n",
    "\n",
    "\n",
    "   # --- If bandwidth is 0, add machine epsilon to it\n",
    "    if sigma==0:\n",
    "        eps = 7./3 - 4./3 - 1\n",
    "        sigma += eps\n",
    "\n",
    "    KX = - 0.5 * xnorm / sigma / sigma\n",
    "    numpy.exp(KX, KX)\n",
    "    return KX\n",
    "\n",
    "def dHSIC_calc(K_list):\n",
    "    \"\"\"\n",
    "    Calculate the HSIC estimator in the general case d > 2, as in\n",
    "    [2] Definition 2.6\n",
    "    \"\"\"\n",
    "    if not isinstance(K_list, list):\n",
    "        K_list = list(K_list)\n",
    "\n",
    "    n_k = len(K_list)\n",
    "\n",
    "    length = K_list[0].shape[0]\n",
    "    term1 = 1.0\n",
    "    term2 = 1.0\n",
    "    term3 = 2.0/length\n",
    "\n",
    "    for j in range(0, n_k):\n",
    "        K_j = K_list[j]\n",
    "        term1 = numpy.multiply(term1, K_j)\n",
    "        term2 = 1.0/length/length*term2*numpy.sum(K_j)\n",
    "        term3 = 1.0/length*term3*K_j.sum(axis=0)\n",
    "\n",
    "    term1 = numpy.sum(term1)\n",
    "    term3 = numpy.sum(term3)\n",
    "    dHSIC = (1.0/length)**2*term1+term2-term3\n",
    "    return dHSIC\n",
    "\n",
    "def HSIC(x, y):\n",
    "    \"\"\"\n",
    "    Calculate the HSIC estimator for d=2, as in [1] eq (9)\n",
    "    \"\"\"\n",
    "    n = x.shape[0]\n",
    "    return numpy.trace(numpy.matmul(centering(gaussian_grammat(x)),centering(gaussian_grammat(y))))/n/n\n",
    "\n",
    "def dHSIC(*argv):\n",
    "    assert len(argv) > 1, \"dHSIC requires at least two arguments\"\n",
    "\n",
    "    if len(argv) == 2:\n",
    "        x, y = argv\n",
    "        return HSIC(x, y)\n",
    "\n",
    "    K_list = [gaussian_grammat(_arg) for _arg in argv]\n",
    "\n",
    "    return dHSIC_calc(K_list)"
   ]
  },
  {
   "cell_type": "code",
   "execution_count": 19,
   "id": "ea460e8f-6dc3-4a67-a142-a63d11f267d2",
   "metadata": {},
   "outputs": [],
   "source": [
    "import numpy as np\n",
    "from pygam import LinearGAM\n",
    "\n",
    "\n",
    "class GAM:\n",
    "    \n",
    "    def __init__(self, n_splines):\n",
    "        self.n_splines = n_splines\n",
    "        \n",
    "    def fit(self, x, y):\n",
    "        # Check `x` dimensionality\n",
    "        x = np.array(x)\n",
    "        assert len(x.shape) == 2, f'`x` should be 2D array. Received {len(x.shape)} dimensional array.'\n",
    "        \n",
    "        # Fit the model\n",
    "        self.model = LinearGAM(n_splines=self.n_splines).gridsearch(x, y) \n",
    "        \n",
    "    def predict(self, x):\n",
    "        return self.model.predict(x)"
   ]
  },
  {
   "cell_type": "code",
   "execution_count": 23,
   "id": "46aa7bc0-dae1-4078-a910-1782fd1e3344",
   "metadata": {
    "scrolled": true
   },
   "outputs": [],
   "source": [
    "def train_and_evaluate_domain(domain, data):\n",
    "    x = data['x'][0].squeeze().numpy()\n",
    "    y = data['y'][0].squeeze().numpy()\n",
    "\n",
    "    # Define params\n",
    "    n_splines = 200\n",
    "    \n",
    "    # Instantiate the models \n",
    "    model_xy = GAM(n_splines=n_splines)\n",
    "    model_yx = GAM(n_splines=n_splines)\n",
    "    \n",
    "    # Fit the models\n",
    "    model_xy.fit(x.reshape(-1, 1), y)\n",
    "    model_yx.fit(y.reshape(-1, 1), x)\n",
    "    \n",
    "    # Generate predictions\n",
    "    y_pred = model_xy.predict(x.reshape(-1, 1))\n",
    "    x_pred = model_yx.predict(y.reshape(-1, 1))\n",
    "\n",
    "    residuals_xy = y - y_pred\n",
    "    residuals_yx = x - x_pred\n",
    "\n",
    "    print('Causal direction (HSIC):')\n",
    "    if HSIC(x, y - y_pred) < HSIC(y, x - x_pred):\n",
    "        print('X -> Y')\n",
    "    else:\n",
    "        print('Y -> X')"
   ]
  },
  {
   "cell_type": "code",
   "execution_count": null,
   "id": "d6f2187e-dff2-4a3b-ab50-3f32cbf2aeef",
   "metadata": {},
   "outputs": [
    {
     "name": "stderr",
     "output_type": "stream",
     "text": [
      "\u001b[38;2;0;255;0m100%\u001b[39m \u001b[38;2;0;255;0m(11 of 11)\u001b[39m |########################| Elapsed Time: 0:00:01 Time:  0:00:010:00\n",
      "\u001b[38;2;0;255;0m100%\u001b[39m \u001b[38;2;0;255;0m(11 of 11)\u001b[39m |########################| Elapsed Time: 0:00:01 Time:  0:00:010:00\n",
      "\u001b[38;2;255;105;0m 18%\u001b[39m \u001b[38;2;255;105;0m(2 of 11)\u001b[39m |####                     | Elapsed Time: 0:00:00 ETA:   0:00:00"
     ]
    },
    {
     "name": "stdout",
     "output_type": "stream",
     "text": [
      "Causal direction (HSIC):\n",
      "X -> Y\n"
     ]
    },
    {
     "name": "stderr",
     "output_type": "stream",
     "text": [
      "\u001b[38;2;0;255;0m100%\u001b[39m \u001b[38;2;0;255;0m(11 of 11)\u001b[39m |########################| Elapsed Time: 0:00:01 Time:  0:00:010:00\n",
      "\u001b[38;2;0;255;0m100%\u001b[39m \u001b[38;2;0;255;0m(11 of 11)\u001b[39m |########################| Elapsed Time: 0:00:01 Time:  0:00:010:00\n",
      "\u001b[38;2;255;80;0m  9%\u001b[39m \u001b[38;2;255;80;0m(1 of 11)\u001b[39m |##                       | Elapsed Time: 0:00:00 ETA:   0:00:00"
     ]
    },
    {
     "name": "stdout",
     "output_type": "stream",
     "text": [
      "Causal direction (HSIC):\n",
      "Y -> X\n"
     ]
    },
    {
     "name": "stderr",
     "output_type": "stream",
     "text": [
      "\u001b[38;2;0;255;0m100%\u001b[39m \u001b[38;2;0;255;0m(11 of 11)\u001b[39m |########################| Elapsed Time: 0:00:01 Time:  0:00:010:00\n",
      "\u001b[38;2;0;255;0m100%\u001b[39m \u001b[38;2;0;255;0m(11 of 11)\u001b[39m |########################| Elapsed Time: 0:00:01 Time:  0:00:010:00\n",
      "\u001b[38;2;255;80;0m  9%\u001b[39m \u001b[38;2;255;80;0m(1 of 11)\u001b[39m |##                       | Elapsed Time: 0:00:00 ETA:   0:00:01"
     ]
    },
    {
     "name": "stdout",
     "output_type": "stream",
     "text": [
      "Causal direction (HSIC):\n",
      "X -> Y\n"
     ]
    },
    {
     "name": "stderr",
     "output_type": "stream",
     "text": [
      "\u001b[38;2;0;255;0m100%\u001b[39m \u001b[38;2;0;255;0m(11 of 11)\u001b[39m |########################| Elapsed Time: 0:00:01 Time:  0:00:010:00\n",
      "\u001b[38;2;0;255;0m100%\u001b[39m \u001b[38;2;0;255;0m(11 of 11)\u001b[39m |########################| Elapsed Time: 0:00:01 Time:  0:00:010:00\n",
      "\u001b[38;2;255;0;0m  0%\u001b[39m \u001b[38;2;255;0;0m(0 of 11)\u001b[39m |                         | Elapsed Time: 0:00:00 ETA:  --:--:--"
     ]
    },
    {
     "name": "stdout",
     "output_type": "stream",
     "text": [
      "Causal direction (HSIC):\n",
      "X -> Y\n"
     ]
    },
    {
     "name": "stderr",
     "output_type": "stream",
     "text": [
      "\u001b[38;2;0;255;0m100%\u001b[39m \u001b[38;2;0;255;0m(11 of 11)\u001b[39m |########################| Elapsed Time: 0:00:03 Time:  0:00:030:00\n",
      "\u001b[38;2;0;255;0m100%\u001b[39m \u001b[38;2;0;255;0m(11 of 11)\u001b[39m |########################| Elapsed Time: 0:00:04 Time:  0:00:040:00\n"
     ]
    },
    {
     "name": "stdout",
     "output_type": "stream",
     "text": [
      "Causal direction (HSIC):\n"
     ]
    },
    {
     "name": "stderr",
     "output_type": "stream",
     "text": [
      "\u001b[38;2;255;0;0m  0%\u001b[39m \u001b[38;2;255;0;0m(0 of 11)\u001b[39m |                         | Elapsed Time: 0:00:00 ETA:  --:--:--"
     ]
    },
    {
     "name": "stdout",
     "output_type": "stream",
     "text": [
      "X -> Y\n"
     ]
    },
    {
     "name": "stderr",
     "output_type": "stream",
     "text": [
      "\u001b[38;2;0;255;0m100%\u001b[39m \u001b[38;2;0;255;0m(11 of 11)\u001b[39m |########################| Elapsed Time: 0:00:05 Time:  0:00:050:00\n",
      "\u001b[38;2;0;255;0m100%\u001b[39m \u001b[38;2;0;255;0m(11 of 11)\u001b[39m |########################| Elapsed Time: 0:00:03 Time:  0:00:030:00\n"
     ]
    },
    {
     "name": "stdout",
     "output_type": "stream",
     "text": [
      "Causal direction (HSIC):\n"
     ]
    },
    {
     "name": "stderr",
     "output_type": "stream",
     "text": [
      "\u001b[38;2;255;0;0m  0%\u001b[39m \u001b[38;2;255;0;0m(0 of 11)\u001b[39m |                         | Elapsed Time: 0:00:00 ETA:  --:--:--"
     ]
    },
    {
     "name": "stdout",
     "output_type": "stream",
     "text": [
      "Y -> X\n"
     ]
    },
    {
     "name": "stderr",
     "output_type": "stream",
     "text": [
      "\u001b[38;2;0;255;0m100%\u001b[39m \u001b[38;2;0;255;0m(11 of 11)\u001b[39m |########################| Elapsed Time: 0:00:06 Time:  0:00:060:00\n",
      "\u001b[38;2;0;255;0m100%\u001b[39m \u001b[38;2;0;255;0m(11 of 11)\u001b[39m |########################| Elapsed Time: 0:00:04 Time:  0:00:040:00\n"
     ]
    },
    {
     "name": "stdout",
     "output_type": "stream",
     "text": [
      "Causal direction (HSIC):\n"
     ]
    },
    {
     "name": "stderr",
     "output_type": "stream",
     "text": [
      "\u001b[38;2;255;0;0m  0%\u001b[39m \u001b[38;2;255;0;0m(0 of 11)\u001b[39m |                         | Elapsed Time: 0:00:00 ETA:  --:--:--"
     ]
    },
    {
     "name": "stdout",
     "output_type": "stream",
     "text": [
      "X -> Y\n"
     ]
    },
    {
     "name": "stderr",
     "output_type": "stream",
     "text": [
      "\u001b[38;2;0;255;0m100%\u001b[39m \u001b[38;2;0;255;0m(11 of 11)\u001b[39m |########################| Elapsed Time: 0:00:06 Time:  0:00:060:00\n",
      "\u001b[38;2;0;255;0m100%\u001b[39m \u001b[38;2;0;255;0m(11 of 11)\u001b[39m |########################| Elapsed Time: 0:00:03 Time:  0:00:030:00\n"
     ]
    },
    {
     "name": "stdout",
     "output_type": "stream",
     "text": [
      "Causal direction (HSIC):\n"
     ]
    },
    {
     "name": "stderr",
     "output_type": "stream",
     "text": [
      "\u001b[38;2;255;0;0m  0%\u001b[39m \u001b[38;2;255;0;0m(0 of 11)\u001b[39m |                         | Elapsed Time: 0:00:00 ETA:  --:--:--"
     ]
    },
    {
     "name": "stdout",
     "output_type": "stream",
     "text": [
      "X -> Y\n"
     ]
    },
    {
     "name": "stderr",
     "output_type": "stream",
     "text": [
      "\u001b[38;2;0;255;0m100%\u001b[39m \u001b[38;2;0;255;0m(11 of 11)\u001b[39m |########################| Elapsed Time: 0:00:06 Time:  0:00:060:00\n",
      "\u001b[38;2;0;255;0m100%\u001b[39m \u001b[38;2;0;255;0m(11 of 11)\u001b[39m |########################| Elapsed Time: 0:00:06 Time:  0:00:060:00\n"
     ]
    },
    {
     "name": "stdout",
     "output_type": "stream",
     "text": [
      "Causal direction (HSIC):\n"
     ]
    },
    {
     "name": "stderr",
     "output_type": "stream",
     "text": [
      "\u001b[38;2;255;0;0m  0%\u001b[39m \u001b[38;2;255;0;0m(0 of 11)\u001b[39m |                         | Elapsed Time: 0:00:00 ETA:  --:--:--"
     ]
    },
    {
     "name": "stdout",
     "output_type": "stream",
     "text": [
      "Y -> X\n"
     ]
    },
    {
     "name": "stderr",
     "output_type": "stream",
     "text": [
      "\u001b[38;2;0;255;0m100%\u001b[39m \u001b[38;2;0;255;0m(11 of 11)\u001b[39m |########################| Elapsed Time: 0:00:25 Time:  0:00:250:02\n",
      "\u001b[38;2;0;255;0m100%\u001b[39m \u001b[38;2;0;255;0m(11 of 11)\u001b[39m |########################| Elapsed Time: 0:00:05 Time:  0:00:050:00\n"
     ]
    },
    {
     "name": "stdout",
     "output_type": "stream",
     "text": [
      "Causal direction (HSIC):\n"
     ]
    },
    {
     "name": "stderr",
     "output_type": "stream",
     "text": [
      "\u001b[38;2;255;0;0m  0%\u001b[39m \u001b[38;2;255;0;0m(0 of 11)\u001b[39m |                         | Elapsed Time: 0:00:00 ETA:  --:--:--"
     ]
    },
    {
     "name": "stdout",
     "output_type": "stream",
     "text": [
      "Y -> X\n"
     ]
    },
    {
     "name": "stderr",
     "output_type": "stream",
     "text": [
      "\u001b[38;2;0;255;0m100%\u001b[39m \u001b[38;2;0;255;0m(11 of 11)\u001b[39m |########################| Elapsed Time: 0:00:06 Time:  0:00:060:00\n",
      "\u001b[38;2;0;255;0m100%\u001b[39m \u001b[38;2;0;255;0m(11 of 11)\u001b[39m |########################| Elapsed Time: 0:00:05 Time:  0:00:050:00\n"
     ]
    },
    {
     "name": "stdout",
     "output_type": "stream",
     "text": [
      "Causal direction (HSIC):\n"
     ]
    },
    {
     "name": "stderr",
     "output_type": "stream",
     "text": [
      "\u001b[38;2;255;0;0m  0%\u001b[39m \u001b[38;2;255;0;0m(0 of 11)\u001b[39m |                         | Elapsed Time: 0:00:00 ETA:  --:--:--"
     ]
    },
    {
     "name": "stdout",
     "output_type": "stream",
     "text": [
      "Y -> X\n"
     ]
    },
    {
     "name": "stderr",
     "output_type": "stream",
     "text": [
      "\u001b[38;2;0;255;0m100%\u001b[39m \u001b[38;2;0;255;0m(11 of 11)\u001b[39m |########################| Elapsed Time: 0:00:08 Time:  0:00:080:00\n",
      "\u001b[38;2;0;255;0m100%\u001b[39m \u001b[38;2;0;255;0m(11 of 11)\u001b[39m |########################| Elapsed Time: 0:00:03 Time:  0:00:030:00\n"
     ]
    },
    {
     "name": "stdout",
     "output_type": "stream",
     "text": [
      "Causal direction (HSIC):\n"
     ]
    },
    {
     "name": "stderr",
     "output_type": "stream",
     "text": [
      "\u001b[38;2;255;0;0m  0%\u001b[39m \u001b[38;2;255;0;0m(0 of 11)\u001b[39m |                         | Elapsed Time: 0:00:00 ETA:  --:--:--"
     ]
    },
    {
     "name": "stdout",
     "output_type": "stream",
     "text": [
      "Y -> X\n"
     ]
    },
    {
     "name": "stderr",
     "output_type": "stream",
     "text": [
      "\u001b[38;2;0;255;0m100%\u001b[39m \u001b[38;2;0;255;0m(11 of 11)\u001b[39m |########################| Elapsed Time: 0:00:04 Time:  0:00:040:00\n",
      "\u001b[38;2;0;255;0m100%\u001b[39m \u001b[38;2;0;255;0m(11 of 11)\u001b[39m |########################| Elapsed Time: 0:00:03 Time:  0:00:030:00\n",
      "\u001b[38;2;255;0;0m  0%\u001b[39m \u001b[38;2;255;0;0m(0 of 11)\u001b[39m |                         | Elapsed Time: 0:00:00 ETA:  --:--:--"
     ]
    },
    {
     "name": "stdout",
     "output_type": "stream",
     "text": [
      "Causal direction (HSIC):\n",
      "Y -> X\n"
     ]
    },
    {
     "name": "stderr",
     "output_type": "stream",
     "text": [
      "\u001b[38;2;0;255;0m100%\u001b[39m \u001b[38;2;0;255;0m(11 of 11)\u001b[39m |########################| Elapsed Time: 0:00:03 Time:  0:00:030:00\n",
      "\u001b[38;2;0;255;0m100%\u001b[39m \u001b[38;2;0;255;0m(11 of 11)\u001b[39m |########################| Elapsed Time: 0:00:03 Time:  0:00:030:00\n",
      "\u001b[38;2;255;80;0m  9%\u001b[39m \u001b[38;2;255;80;0m(1 of 11)\u001b[39m |##                       | Elapsed Time: 0:00:00 ETA:   0:00:01"
     ]
    },
    {
     "name": "stdout",
     "output_type": "stream",
     "text": [
      "Causal direction (HSIC):\n",
      "Y -> X\n"
     ]
    },
    {
     "name": "stderr",
     "output_type": "stream",
     "text": [
      "\u001b[38;2;0;255;0m100%\u001b[39m \u001b[38;2;0;255;0m(11 of 11)\u001b[39m |########################| Elapsed Time: 0:00:01 Time:  0:00:010:00\n",
      "\u001b[38;2;0;255;0m100%\u001b[39m \u001b[38;2;0;255;0m(11 of 11)\u001b[39m |########################| Elapsed Time: 0:00:02 Time:  0:00:020:00\n",
      "\u001b[38;2;255;0;0m  0%\u001b[39m \u001b[38;2;255;0;0m(0 of 11)\u001b[39m |                         | Elapsed Time: 0:00:00 ETA:  --:--:--"
     ]
    },
    {
     "name": "stdout",
     "output_type": "stream",
     "text": [
      "Causal direction (HSIC):\n",
      "Y -> X\n"
     ]
    },
    {
     "name": "stderr",
     "output_type": "stream",
     "text": [
      "\u001b[38;2;0;255;0m100%\u001b[39m \u001b[38;2;0;255;0m(11 of 11)\u001b[39m |########################| Elapsed Time: 0:00:02 Time:  0:00:020:00\n",
      "\u001b[38;2;0;255;0m100%\u001b[39m \u001b[38;2;0;255;0m(11 of 11)\u001b[39m |########################| Elapsed Time: 0:00:01 Time:  0:00:010:00\n",
      "\u001b[38;2;255;0;0m  0%\u001b[39m \u001b[38;2;255;0;0m(0 of 11)\u001b[39m |                         | Elapsed Time: 0:00:00 ETA:  --:--:--"
     ]
    },
    {
     "name": "stdout",
     "output_type": "stream",
     "text": [
      "Causal direction (HSIC):\n",
      "X -> Y\n"
     ]
    },
    {
     "name": "stderr",
     "output_type": "stream",
     "text": [
      "\u001b[38;2;0;255;0m100%\u001b[39m \u001b[38;2;0;255;0m(11 of 11)\u001b[39m |########################| Elapsed Time: 0:00:04 Time:  0:00:040:00\n",
      "\u001b[38;2;0;255;0m100%\u001b[39m \u001b[38;2;0;255;0m(11 of 11)\u001b[39m |########################| Elapsed Time: 0:00:04 Time:  0:00:040:00\n"
     ]
    },
    {
     "name": "stdout",
     "output_type": "stream",
     "text": [
      "Causal direction (HSIC):\n"
     ]
    },
    {
     "name": "stderr",
     "output_type": "stream",
     "text": [
      "\u001b[38;2;255;0;0m  0%\u001b[39m \u001b[38;2;255;0;0m(0 of 11)\u001b[39m |                         | Elapsed Time: 0:00:00 ETA:  --:--:--"
     ]
    },
    {
     "name": "stdout",
     "output_type": "stream",
     "text": [
      "Y -> X\n"
     ]
    },
    {
     "name": "stderr",
     "output_type": "stream",
     "text": [
      "\u001b[38;2;0;255;0m100%\u001b[39m \u001b[38;2;0;255;0m(11 of 11)\u001b[39m |########################| Elapsed Time: 0:00:05 Time:  0:00:050:00\n",
      "\u001b[38;2;0;255;0m100%\u001b[39m \u001b[38;2;0;255;0m(11 of 11)\u001b[39m |########################| Elapsed Time: 0:00:02 Time:  0:00:020:00\n",
      "\u001b[38;2;255;80;0m  9%\u001b[39m \u001b[38;2;255;80;0m(1 of 11)\u001b[39m |##                       | Elapsed Time: 0:00:00 ETA:   0:00:01"
     ]
    },
    {
     "name": "stdout",
     "output_type": "stream",
     "text": [
      "Causal direction (HSIC):\n",
      "X -> Y\n"
     ]
    },
    {
     "name": "stderr",
     "output_type": "stream",
     "text": [
      "\u001b[38;2;0;255;0m100%\u001b[39m \u001b[38;2;0;255;0m(11 of 11)\u001b[39m |########################| Elapsed Time: 0:00:01 Time:  0:00:010:00\n",
      "\u001b[38;2;0;255;0m100%\u001b[39m \u001b[38;2;0;255;0m(11 of 11)\u001b[39m |########################| Elapsed Time: 0:00:01 Time:  0:00:010:00\n",
      "\u001b[38;2;255;80;0m  9%\u001b[39m \u001b[38;2;255;80;0m(1 of 11)\u001b[39m |##                       | Elapsed Time: 0:00:00 ETA:   0:00:01"
     ]
    },
    {
     "name": "stdout",
     "output_type": "stream",
     "text": [
      "Causal direction (HSIC):\n",
      "X -> Y\n"
     ]
    },
    {
     "name": "stderr",
     "output_type": "stream",
     "text": [
      "\u001b[38;2;0;255;0m100%\u001b[39m \u001b[38;2;0;255;0m(11 of 11)\u001b[39m |########################| Elapsed Time: 0:00:01 Time:  0:00:010:00\n",
      "\u001b[38;2;0;255;0m100%\u001b[39m \u001b[38;2;0;255;0m(11 of 11)\u001b[39m |########################| Elapsed Time: 0:00:02 Time:  0:00:020:00\n",
      "\u001b[38;2;255;80;0m  9%\u001b[39m \u001b[38;2;255;80;0m(1 of 11)\u001b[39m |##                       | Elapsed Time: 0:00:00 ETA:   0:00:01"
     ]
    },
    {
     "name": "stdout",
     "output_type": "stream",
     "text": [
      "Causal direction (HSIC):\n",
      "Y -> X\n"
     ]
    },
    {
     "name": "stderr",
     "output_type": "stream",
     "text": [
      "\u001b[38;2;0;255;0m100%\u001b[39m \u001b[38;2;0;255;0m(11 of 11)\u001b[39m |########################| Elapsed Time: 0:00:02 Time:  0:00:020:00\n",
      "\u001b[38;2;0;255;0m100%\u001b[39m \u001b[38;2;0;255;0m(11 of 11)\u001b[39m |########################| Elapsed Time: 0:00:01 Time:  0:00:010:00\n",
      "\u001b[38;2;255;80;0m  9%\u001b[39m \u001b[38;2;255;80;0m(1 of 11)\u001b[39m |##                       | Elapsed Time: 0:00:00 ETA:   0:00:01"
     ]
    },
    {
     "name": "stdout",
     "output_type": "stream",
     "text": [
      "Causal direction (HSIC):\n",
      "Y -> X\n"
     ]
    },
    {
     "name": "stderr",
     "output_type": "stream",
     "text": [
      "\u001b[38;2;0;255;0m100%\u001b[39m \u001b[38;2;0;255;0m(11 of 11)\u001b[39m |########################| Elapsed Time: 0:00:02 Time:  0:00:020:00\n",
      "\u001b[38;2;0;255;0m100%\u001b[39m \u001b[38;2;0;255;0m(11 of 11)\u001b[39m |########################| Elapsed Time: 0:00:01 Time:  0:00:010:00\n",
      "\u001b[38;2;255;0;0m  0%\u001b[39m \u001b[38;2;255;0;0m(0 of 11)\u001b[39m |                         | Elapsed Time: 0:00:00 ETA:  --:--:--"
     ]
    },
    {
     "name": "stdout",
     "output_type": "stream",
     "text": [
      "Causal direction (HSIC):\n",
      "X -> Y\n"
     ]
    },
    {
     "name": "stderr",
     "output_type": "stream",
     "text": [
      "\u001b[38;2;0;255;0m100%\u001b[39m \u001b[38;2;0;255;0m(11 of 11)\u001b[39m |########################| Elapsed Time: 0:00:01 Time:  0:00:010:00\n",
      "\u001b[38;2;0;255;0m100%\u001b[39m \u001b[38;2;0;255;0m(11 of 11)\u001b[39m |########################| Elapsed Time: 0:00:01 Time:  0:00:010:00\n",
      "\u001b[38;2;255;80;0m  9%\u001b[39m \u001b[38;2;255;80;0m(1 of 11)\u001b[39m |##                       | Elapsed Time: 0:00:00 ETA:   0:00:01"
     ]
    },
    {
     "name": "stdout",
     "output_type": "stream",
     "text": [
      "Causal direction (HSIC):\n",
      "X -> Y\n"
     ]
    },
    {
     "name": "stderr",
     "output_type": "stream",
     "text": [
      "\u001b[38;2;0;255;0m100%\u001b[39m \u001b[38;2;0;255;0m(11 of 11)\u001b[39m |########################| Elapsed Time: 0:00:02 Time:  0:00:020:00\n",
      "\u001b[38;2;0;255;0m100%\u001b[39m \u001b[38;2;0;255;0m(11 of 11)\u001b[39m |########################| Elapsed Time: 0:00:01 Time:  0:00:010:00\n",
      "\u001b[38;2;255;0;0m  0%\u001b[39m \u001b[38;2;255;0;0m(0 of 11)\u001b[39m |                         | Elapsed Time: 0:00:00 ETA:  --:--:--"
     ]
    },
    {
     "name": "stdout",
     "output_type": "stream",
     "text": [
      "Causal direction (HSIC):\n",
      "X -> Y\n"
     ]
    },
    {
     "name": "stderr",
     "output_type": "stream",
     "text": [
      "\u001b[38;2;0;255;0m100%\u001b[39m \u001b[38;2;0;255;0m(11 of 11)\u001b[39m |########################| Elapsed Time: 0:00:02 Time:  0:00:020:00\n",
      "\u001b[38;2;0;255;0m100%\u001b[39m \u001b[38;2;0;255;0m(11 of 11)\u001b[39m |########################| Elapsed Time: 0:00:02 Time:  0:00:020:00\n"
     ]
    },
    {
     "name": "stdout",
     "output_type": "stream",
     "text": [
      "Causal direction (HSIC):\n"
     ]
    },
    {
     "name": "stderr",
     "output_type": "stream",
     "text": [
      "\u001b[38;2;255;80;0m  9%\u001b[39m \u001b[38;2;255;80;0m(1 of 11)\u001b[39m |##                       | Elapsed Time: 0:00:00 ETA:   0:00:01"
     ]
    },
    {
     "name": "stdout",
     "output_type": "stream",
     "text": [
      "X -> Y\n"
     ]
    },
    {
     "name": "stderr",
     "output_type": "stream",
     "text": [
      "\u001b[38;2;0;255;0m100%\u001b[39m \u001b[38;2;0;255;0m(11 of 11)\u001b[39m |########################| Elapsed Time: 0:00:02 Time:  0:00:020:00\n",
      "\u001b[38;2;0;255;0m100%\u001b[39m \u001b[38;2;0;255;0m(11 of 11)\u001b[39m |########################| Elapsed Time: 0:00:02 Time:  0:00:020:00\n"
     ]
    },
    {
     "name": "stdout",
     "output_type": "stream",
     "text": [
      "Causal direction (HSIC):\n"
     ]
    },
    {
     "name": "stderr",
     "output_type": "stream",
     "text": [
      "\u001b[38;2;255;80;0m  9%\u001b[39m \u001b[38;2;255;80;0m(1 of 11)\u001b[39m |##                       | Elapsed Time: 0:00:00 ETA:   0:00:01"
     ]
    },
    {
     "name": "stdout",
     "output_type": "stream",
     "text": [
      "X -> Y\n"
     ]
    },
    {
     "name": "stderr",
     "output_type": "stream",
     "text": [
      "\u001b[38;2;0;255;0m100%\u001b[39m \u001b[38;2;0;255;0m(11 of 11)\u001b[39m |########################| Elapsed Time: 0:00:02 Time:  0:00:020:00\n",
      "\u001b[38;2;0;255;0m100%\u001b[39m \u001b[38;2;0;255;0m(11 of 11)\u001b[39m |########################| Elapsed Time: 0:00:02 Time:  0:00:020:00\n"
     ]
    },
    {
     "name": "stdout",
     "output_type": "stream",
     "text": [
      "Causal direction (HSIC):\n"
     ]
    },
    {
     "name": "stderr",
     "output_type": "stream",
     "text": [
      "\u001b[38;2;255;80;0m  9%\u001b[39m \u001b[38;2;255;80;0m(1 of 11)\u001b[39m |##                       | Elapsed Time: 0:00:00 ETA:   0:00:01"
     ]
    },
    {
     "name": "stdout",
     "output_type": "stream",
     "text": [
      "X -> Y\n"
     ]
    },
    {
     "name": "stderr",
     "output_type": "stream",
     "text": [
      "\u001b[38;2;0;255;0m100%\u001b[39m \u001b[38;2;0;255;0m(11 of 11)\u001b[39m |########################| Elapsed Time: 0:00:02 Time:  0:00:020:00\n",
      "\u001b[38;2;0;255;0m100%\u001b[39m \u001b[38;2;0;255;0m(11 of 11)\u001b[39m |########################| Elapsed Time: 0:00:02 Time:  0:00:020:00\n"
     ]
    },
    {
     "name": "stdout",
     "output_type": "stream",
     "text": [
      "Causal direction (HSIC):\n"
     ]
    },
    {
     "name": "stderr",
     "output_type": "stream",
     "text": [
      "\u001b[38;2;255;80;0m  9%\u001b[39m \u001b[38;2;255;80;0m(1 of 11)\u001b[39m |##                       | Elapsed Time: 0:00:00 ETA:   0:00:01"
     ]
    },
    {
     "name": "stdout",
     "output_type": "stream",
     "text": [
      "X -> Y\n"
     ]
    },
    {
     "name": "stderr",
     "output_type": "stream",
     "text": [
      "\u001b[38;2;0;255;0m100%\u001b[39m \u001b[38;2;0;255;0m(11 of 11)\u001b[39m |########################| Elapsed Time: 0:00:02 Time:  0:00:020:00\n",
      "\u001b[38;2;0;255;0m100%\u001b[39m \u001b[38;2;0;255;0m(11 of 11)\u001b[39m |########################| Elapsed Time: 0:00:02 Time:  0:00:020:00\n"
     ]
    },
    {
     "name": "stdout",
     "output_type": "stream",
     "text": [
      "Causal direction (HSIC):\n"
     ]
    },
    {
     "name": "stderr",
     "output_type": "stream",
     "text": [
      "\u001b[38;2;255;80;0m  9%\u001b[39m \u001b[38;2;255;80;0m(1 of 11)\u001b[39m |##                       | Elapsed Time: 0:00:00 ETA:   0:00:01"
     ]
    },
    {
     "name": "stdout",
     "output_type": "stream",
     "text": [
      "X -> Y\n"
     ]
    },
    {
     "name": "stderr",
     "output_type": "stream",
     "text": [
      "\u001b[38;2;0;255;0m100%\u001b[39m \u001b[38;2;0;255;0m(11 of 11)\u001b[39m |########################| Elapsed Time: 0:00:02 Time:  0:00:020:00\n",
      "\u001b[38;2;0;255;0m100%\u001b[39m \u001b[38;2;0;255;0m(11 of 11)\u001b[39m |########################| Elapsed Time: 0:00:02 Time:  0:00:020:00\n"
     ]
    },
    {
     "name": "stdout",
     "output_type": "stream",
     "text": [
      "Causal direction (HSIC):\n"
     ]
    },
    {
     "name": "stderr",
     "output_type": "stream",
     "text": [
      "\u001b[38;2;255;80;0m  9%\u001b[39m \u001b[38;2;255;80;0m(1 of 11)\u001b[39m |##                       | Elapsed Time: 0:00:00 ETA:   0:00:01"
     ]
    },
    {
     "name": "stdout",
     "output_type": "stream",
     "text": [
      "X -> Y\n"
     ]
    },
    {
     "name": "stderr",
     "output_type": "stream",
     "text": [
      "\u001b[38;2;0;255;0m100%\u001b[39m \u001b[38;2;0;255;0m(11 of 11)\u001b[39m |########################| Elapsed Time: 0:00:02 Time:  0:00:020:00\n",
      "\u001b[38;2;0;255;0m100%\u001b[39m \u001b[38;2;0;255;0m(11 of 11)\u001b[39m |########################| Elapsed Time: 0:00:02 Time:  0:00:020:00\n"
     ]
    },
    {
     "name": "stdout",
     "output_type": "stream",
     "text": [
      "Causal direction (HSIC):\n"
     ]
    },
    {
     "name": "stderr",
     "output_type": "stream",
     "text": [
      "\u001b[38;2;255;80;0m  9%\u001b[39m \u001b[38;2;255;80;0m(1 of 11)\u001b[39m |##                       | Elapsed Time: 0:00:00 ETA:   0:00:01"
     ]
    },
    {
     "name": "stdout",
     "output_type": "stream",
     "text": [
      "X -> Y\n"
     ]
    },
    {
     "name": "stderr",
     "output_type": "stream",
     "text": [
      "\u001b[38;2;0;255;0m100%\u001b[39m \u001b[38;2;0;255;0m(11 of 11)\u001b[39m |########################| Elapsed Time: 0:00:01 Time:  0:00:010:00\n",
      "\u001b[38;2;0;255;0m100%\u001b[39m \u001b[38;2;0;255;0m(11 of 11)\u001b[39m |########################| Elapsed Time: 0:00:02 Time:  0:00:020:00\n"
     ]
    },
    {
     "name": "stdout",
     "output_type": "stream",
     "text": [
      "Causal direction (HSIC):\n"
     ]
    },
    {
     "name": "stderr",
     "output_type": "stream",
     "text": [
      "\u001b[38;2;255;80;0m  9%\u001b[39m \u001b[38;2;255;80;0m(1 of 11)\u001b[39m |##                       | Elapsed Time: 0:00:00 ETA:   0:00:01"
     ]
    },
    {
     "name": "stdout",
     "output_type": "stream",
     "text": [
      "X -> Y\n"
     ]
    },
    {
     "name": "stderr",
     "output_type": "stream",
     "text": [
      "\u001b[38;2;0;255;0m100%\u001b[39m \u001b[38;2;0;255;0m(11 of 11)\u001b[39m |########################| Elapsed Time: 0:00:02 Time:  0:00:020:00\n",
      "\u001b[38;2;0;255;0m100%\u001b[39m \u001b[38;2;0;255;0m(11 of 11)\u001b[39m |########################| Elapsed Time: 0:00:01 Time:  0:00:010:00\n",
      "\u001b[38;2;255;80;0m  9%\u001b[39m \u001b[38;2;255;80;0m(1 of 11)\u001b[39m |##                       | Elapsed Time: 0:00:00 ETA:   0:00:01"
     ]
    },
    {
     "name": "stdout",
     "output_type": "stream",
     "text": [
      "Causal direction (HSIC):\n",
      "X -> Y\n"
     ]
    },
    {
     "name": "stderr",
     "output_type": "stream",
     "text": [
      "\u001b[38;2;0;255;0m100%\u001b[39m \u001b[38;2;0;255;0m(11 of 11)\u001b[39m |########################| Elapsed Time: 0:00:01 Time:  0:00:010:00\n",
      "\u001b[38;2;0;255;0m100%\u001b[39m \u001b[38;2;0;255;0m(11 of 11)\u001b[39m |########################| Elapsed Time: 0:00:02 Time:  0:00:020:00\n",
      "\u001b[38;2;255;0;0m  0%\u001b[39m \u001b[38;2;255;0;0m(0 of 11)\u001b[39m |                         | Elapsed Time: 0:00:00 ETA:  --:--:--"
     ]
    },
    {
     "name": "stdout",
     "output_type": "stream",
     "text": [
      "Causal direction (HSIC):\n",
      "X -> Y\n"
     ]
    },
    {
     "name": "stderr",
     "output_type": "stream",
     "text": [
      "\u001b[38;2;0;255;0m100%\u001b[39m \u001b[38;2;0;255;0m(11 of 11)\u001b[39m |########################| Elapsed Time: 0:00:01 Time:  0:00:010:00\n",
      "\u001b[38;2;0;255;0m100%\u001b[39m \u001b[38;2;0;255;0m(11 of 11)\u001b[39m |########################| Elapsed Time: 0:00:01 Time:  0:00:010:00\n",
      "\u001b[38;2;255;80;0m  9%\u001b[39m \u001b[38;2;255;80;0m(1 of 11)\u001b[39m |##                       | Elapsed Time: 0:00:00 ETA:   0:00:00"
     ]
    },
    {
     "name": "stdout",
     "output_type": "stream",
     "text": [
      "Causal direction (HSIC):\n",
      "Y -> X\n"
     ]
    },
    {
     "name": "stderr",
     "output_type": "stream",
     "text": [
      "\u001b[38;2;0;255;0m100%\u001b[39m \u001b[38;2;0;255;0m(11 of 11)\u001b[39m |########################| Elapsed Time: 0:00:01 Time:  0:00:010:00\n",
      "\u001b[38;2;0;255;0m100%\u001b[39m \u001b[38;2;0;255;0m(11 of 11)\u001b[39m |########################| Elapsed Time: 0:00:01 Time:  0:00:010:00\n",
      "\u001b[38;2;255;80;0m  9%\u001b[39m \u001b[38;2;255;80;0m(1 of 11)\u001b[39m |##                       | Elapsed Time: 0:00:00 ETA:   0:00:01"
     ]
    },
    {
     "name": "stdout",
     "output_type": "stream",
     "text": [
      "Causal direction (HSIC):\n",
      "Y -> X\n"
     ]
    },
    {
     "name": "stderr",
     "output_type": "stream",
     "text": [
      "\u001b[38;2;0;255;0m100%\u001b[39m \u001b[38;2;0;255;0m(11 of 11)\u001b[39m |########################| Elapsed Time: 0:00:01 Time:  0:00:010:00\n",
      "\u001b[38;2;0;255;0m100%\u001b[39m \u001b[38;2;0;255;0m(11 of 11)\u001b[39m |########################| Elapsed Time: 0:00:01 Time:  0:00:010:00\n",
      "\u001b[38;2;255;80;0m  9%\u001b[39m \u001b[38;2;255;80;0m(1 of 11)\u001b[39m |##                       | Elapsed Time: 0:00:00 ETA:   0:00:01"
     ]
    },
    {
     "name": "stdout",
     "output_type": "stream",
     "text": [
      "Causal direction (HSIC):\n",
      "Y -> X\n"
     ]
    },
    {
     "name": "stderr",
     "output_type": "stream",
     "text": [
      "\u001b[38;2;0;255;0m100%\u001b[39m \u001b[38;2;0;255;0m(11 of 11)\u001b[39m |########################| Elapsed Time: 0:00:01 Time:  0:00:010:00\n",
      "\u001b[38;2;0;255;0m100%\u001b[39m \u001b[38;2;0;255;0m(11 of 11)\u001b[39m |########################| Elapsed Time: 0:00:02 Time:  0:00:020:00\n",
      "\u001b[38;2;255;0;0m  0%\u001b[39m \u001b[38;2;255;0;0m(0 of 11)\u001b[39m |                         | Elapsed Time: 0:00:00 ETA:  --:--:--"
     ]
    },
    {
     "name": "stdout",
     "output_type": "stream",
     "text": [
      "Causal direction (HSIC):\n",
      "X -> Y\n"
     ]
    },
    {
     "name": "stderr",
     "output_type": "stream",
     "text": [
      "\u001b[38;2;0;255;0m100%\u001b[39m \u001b[38;2;0;255;0m(11 of 11)\u001b[39m |########################| Elapsed Time: 0:00:01 Time:  0:00:010:00\n",
      "\u001b[38;2;0;255;0m100%\u001b[39m \u001b[38;2;0;255;0m(11 of 11)\u001b[39m |########################| Elapsed Time: 0:00:01 Time:  0:00:010:00\n",
      "\u001b[38;2;255;0;0m  0%\u001b[39m \u001b[38;2;255;0;0m(0 of 11)\u001b[39m |                         | Elapsed Time: 0:00:00 ETA:  --:--:--"
     ]
    },
    {
     "name": "stdout",
     "output_type": "stream",
     "text": [
      "Causal direction (HSIC):\n",
      "X -> Y\n"
     ]
    },
    {
     "name": "stderr",
     "output_type": "stream",
     "text": [
      "\u001b[38;2;0;255;0m100%\u001b[39m \u001b[38;2;0;255;0m(11 of 11)\u001b[39m |########################| Elapsed Time: 0:00:01 Time:  0:00:010:00\n",
      "\u001b[38;2;0;255;0m100%\u001b[39m \u001b[38;2;0;255;0m(11 of 11)\u001b[39m |########################| Elapsed Time: 0:00:02 Time:  0:00:020:00\n",
      "\u001b[38;2;255;0;0m  0%\u001b[39m \u001b[38;2;255;0;0m(0 of 11)\u001b[39m |                         | Elapsed Time: 0:00:00 ETA:  --:--:--"
     ]
    },
    {
     "name": "stdout",
     "output_type": "stream",
     "text": [
      "Causal direction (HSIC):\n",
      "X -> Y\n"
     ]
    },
    {
     "name": "stderr",
     "output_type": "stream",
     "text": [
      "\u001b[38;2;0;255;0m100%\u001b[39m \u001b[38;2;0;255;0m(11 of 11)\u001b[39m |########################| Elapsed Time: 0:00:02 Time:  0:00:020:00\n",
      "\u001b[38;2;0;255;0m100%\u001b[39m \u001b[38;2;0;255;0m(11 of 11)\u001b[39m |########################| Elapsed Time: 0:00:02 Time:  0:00:020:00\n",
      "\u001b[38;2;255;0;0m  0%\u001b[39m \u001b[38;2;255;0;0m(0 of 11)\u001b[39m |                         | Elapsed Time: 0:00:00 ETA:  --:--:--"
     ]
    },
    {
     "name": "stdout",
     "output_type": "stream",
     "text": [
      "Causal direction (HSIC):\n",
      "X -> Y\n"
     ]
    },
    {
     "name": "stderr",
     "output_type": "stream",
     "text": [
      "\u001b[38;2;0;255;0m100%\u001b[39m \u001b[38;2;0;255;0m(11 of 11)\u001b[39m |########################| Elapsed Time: 0:00:06 Time:  0:00:060:00\n",
      "\u001b[38;2;0;255;0m100%\u001b[39m \u001b[38;2;0;255;0m(11 of 11)\u001b[39m |########################| Elapsed Time: 0:00:06 Time:  0:00:060:00\n"
     ]
    },
    {
     "name": "stdout",
     "output_type": "stream",
     "text": [
      "Causal direction (HSIC):\n"
     ]
    }
   ],
   "source": [
    "for domain, data in domains.items():\n",
    "    train_and_evaluate_domain(domain, data)"
   ]
  },
  {
   "cell_type": "code",
   "execution_count": null,
   "id": "edd88576-e3c0-4c41-a1d9-748942f66d48",
   "metadata": {},
   "outputs": [],
   "source": []
  },
  {
   "cell_type": "code",
   "execution_count": null,
   "id": "ecd89470-307c-4c6d-a669-1db8bd38f343",
   "metadata": {},
   "outputs": [],
   "source": []
  }
 ],
 "metadata": {
  "kernelspec": {
   "display_name": "Python 3 (ipykernel)",
   "language": "python",
   "name": "python3"
  },
  "language_info": {
   "codemirror_mode": {
    "name": "ipython",
    "version": 3
   },
   "file_extension": ".py",
   "mimetype": "text/x-python",
   "name": "python",
   "nbconvert_exporter": "python",
   "pygments_lexer": "ipython3",
   "version": "3.10.12"
  }
 },
 "nbformat": 4,
 "nbformat_minor": 5
}
